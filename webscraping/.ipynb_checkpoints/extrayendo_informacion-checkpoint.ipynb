{
 "cells": [
  {
   "cell_type": "code",
   "execution_count": 1,
   "id": "twenty-generation",
   "metadata": {},
   "outputs": [
    {
     "name": "stdout",
     "output_type": "stream",
     "text": [
      "200\n"
     ]
    }
   ],
   "source": [
    "import requests\n",
    "from bs4 import BeautifulSoup as bs\n",
    "\n",
    "pag12 = requests.get('https://www.pagina12.com.ar/')\n",
    "print(pag12.status_code)\n",
    "#print(pag12.text)\n",
    "#print(pag12.content)\n",
    "soup = bs(pag12.text, 'lxml')\n",
    "#print(soup.prettify())\n",
    "#print(pag12.headers)\n",
    "#print(soup.find('ul'))\n",
    "links = soup.find('ul',attrs={'class':'horizontal-list main-sections hide-on-dropdown'}).find_all('li')"
   ]
  },
  {
   "cell_type": "code",
   "execution_count": 2,
   "id": "demanding-quest",
   "metadata": {},
   "outputs": [
    {
     "name": "stdout",
     "output_type": "stream",
     "text": [
      "[<li class=\"p12-separator--right--primary\"><a href=\"https://www.pagina12.com.ar/secciones/el-pais\">El país</a></li>, <li class=\"p12-separator--right--primary\"><a href=\"https://www.pagina12.com.ar/secciones/economia\">Economía</a></li>, <li class=\"p12-separator--right--primary\"><a href=\"https://www.pagina12.com.ar/secciones/sociedad\">Sociedad</a></li>, <li class=\"no-separator-on-1040 p12-separator--right--primary\"><a href=\"https://www.pagina12.com.ar/suplementos/cultura-y-espectaculos\">Cultura y Espectáculos</a></li>, <li class=\"hide-on-1040 p12-separator--right--primary\"><a href=\"https://www.pagina12.com.ar/secciones/deportes\">Deportes</a></li>, <li class=\"hide-on-1040 p12-separator--right--primary\"><a href=\"https://www.pagina12.com.ar/secciones/el-mundo\">El mundo</a></li>, <li class=\"hide-on-1040\"><a href=\"https://www.pagina12.com.ar/secciones/contratapa\">Contratapa</a></li>]\n"
     ]
    }
   ],
   "source": [
    "print(links)"
   ]
  },
  {
   "cell_type": "code",
   "execution_count": 3,
   "id": "forced-companion",
   "metadata": {},
   "outputs": [
    {
     "name": "stdout",
     "output_type": "stream",
     "text": [
      "<a href=\"https://www.pagina12.com.ar/secciones/el-pais\">El país</a>\n"
     ]
    }
   ],
   "source": [
    "seccion = links[0]\n",
    "print(seccion.find('a'))"
   ]
  },
  {
   "cell_type": "code",
   "execution_count": 4,
   "id": "sound-answer",
   "metadata": {},
   "outputs": [
    {
     "name": "stdout",
     "output_type": "stream",
     "text": [
      "https://www.pagina12.com.ar/secciones/el-pais\n"
     ]
    }
   ],
   "source": [
    "print(seccion.a.get('href'))"
   ]
  },
  {
   "cell_type": "code",
   "execution_count": 5,
   "id": "architectural-basics",
   "metadata": {},
   "outputs": [
    {
     "name": "stdout",
     "output_type": "stream",
     "text": [
      "El país\n"
     ]
    }
   ],
   "source": [
    "print(seccion.a.get_text())"
   ]
  },
  {
   "cell_type": "code",
   "execution_count": 6,
   "id": "czech-cookbook",
   "metadata": {},
   "outputs": [
    {
     "name": "stdout",
     "output_type": "stream",
     "text": [
      "['https://www.pagina12.com.ar/secciones/el-pais', 'https://www.pagina12.com.ar/secciones/economia', 'https://www.pagina12.com.ar/secciones/sociedad', 'https://www.pagina12.com.ar/suplementos/cultura-y-espectaculos', 'https://www.pagina12.com.ar/secciones/deportes', 'https://www.pagina12.com.ar/secciones/el-mundo', 'https://www.pagina12.com.ar/secciones/contratapa']\n"
     ]
    }
   ],
   "source": [
    "links_secciones = [seccion.a.get('href') for seccion in links]\n",
    "print(links_secciones)"
   ]
  },
  {
   "cell_type": "code",
   "execution_count": 7,
   "id": "functioning-rates",
   "metadata": {},
   "outputs": [
    {
     "name": "stdout",
     "output_type": "stream",
     "text": [
      "https://www.pagina12.com.ar/330391-ya-aterrizo-en-ezeiza-el-vuelo-de-aerolineas-con-mas-dosis-d\n"
     ]
    }
   ],
   "source": [
    "sec = requests.get(links_secciones[0])\n",
    "s_seccion = bs(sec.text, 'lxml')\n",
    "featured_article = s_seccion.find('div', attrs={'class': 'article-item__content'})\n",
    "print(featured_article.a.get('href'))"
   ]
  },
  {
   "cell_type": "code",
   "execution_count": 8,
   "id": "entertaining-bride",
   "metadata": {
    "scrolled": true
   },
   "outputs": [
    {
     "name": "stdout",
     "output_type": "stream",
     "text": [
      "[<div class=\"article-item__header\"><a href=\"https://www.pagina12.com.ar/330552-vizzotti-no-estamos-pensando-en-medidas-de-confinamiento\"><!-- DUST PATH: /usr/src/app/node_modules/frontend-core/views/widgets/fc_displayImg_amp.dust/ --><amp-img alt=\" (Fuente: NA)\" class=\"\" height=\"313\" layout=\"responsive\" src=\"https://images.pagina12.com.ar/styles/focal_3_2_470x313/public/2021-03/149052-vizzotti-iii-na.jpg?itok=Rh1fZJPc\" srcset=\"https://images.pagina12.com.ar/styles/focal_3_2_470x313/public/2021-03/149052-vizzotti-iii-na.jpg?itok=Rh1fZJPc 470w, https://images.pagina12.com.ar/styles/focal_3_2_300x200/public/2021-03/149052-vizzotti-iii-na.jpg?itok=1pipblke 300w, https://images.pagina12.com.ar/styles/focal_3_2_120x80/public/2021-03/149052-vizzotti-iii-na.jpg?itok=qCnOwIha 120w\" width=\"470\"></amp-img><!-- DUST PATH: /usr/src/app/src/templates/partials/amp/articles/components/multimedia_badge.dust/ --><span class=\"video-tag\"><div>VIDEO</div></span></a></div>, <div>VIDEO</div>, <div class=\"article-item__content-footer-wrapper gutter-small deco-bar-here-top is-mobile-left negative-margin-top\"><div class=\"article-item__content\"><!-- Article type --><!-- Title --><h3 class=\"title-list\"><a href=\"https://www.pagina12.com.ar/330552-vizzotti-no-estamos-pensando-en-medidas-de-confinamiento\">Vizzotti: “No estamos pensando en medidas de confinamiento”</a></h3><!-- Kicker --><p class=\"p12-separator--left--primary\"><a href=\"https://www.pagina12.com.ar/330552-vizzotti-no-estamos-pensando-en-medidas-de-confinamiento\">Tras la primera reunión presencial del Consejo Federal de Salud</a></p></div><!-- Author & Date --><div class=\"article-item__footer is-display-block-mobile\"><div class=\"author is-display-inline p12-separator-right-gray\"><span>Por </span><a href=\"https://www.pagina12.com.ar/autores/237906-melisa-molina\">Melisa Molina</a></div><div class=\"date is-display-inline\">20 de marzo de 2021</div></div></div>, <div class=\"article-item__content\"><!-- Article type --><!-- Title --><h3 class=\"title-list\"><a href=\"https://www.pagina12.com.ar/330552-vizzotti-no-estamos-pensando-en-medidas-de-confinamiento\">Vizzotti: “No estamos pensando en medidas de confinamiento”</a></h3><!-- Kicker --><p class=\"p12-separator--left--primary\"><a href=\"https://www.pagina12.com.ar/330552-vizzotti-no-estamos-pensando-en-medidas-de-confinamiento\">Tras la primera reunión presencial del Consejo Federal de Salud</a></p></div>, <div class=\"article-item__footer is-display-block-mobile\"><div class=\"author is-display-inline p12-separator-right-gray\"><span>Por </span><a href=\"https://www.pagina12.com.ar/autores/237906-melisa-molina\">Melisa Molina</a></div><div class=\"date is-display-inline\">20 de marzo de 2021</div></div>, <div class=\"author is-display-inline p12-separator-right-gray\"><span>Por </span><a href=\"https://www.pagina12.com.ar/autores/237906-melisa-molina\">Melisa Molina</a></div>, <div class=\"date is-display-inline\">20 de marzo de 2021</div>, <div class=\"article-item__header\"><a href=\"https://www.pagina12.com.ar/330596-las-presiones-de-estados-unidos-a-america-latina-en-la-pande\"><!-- DUST PATH: /usr/src/app/node_modules/frontend-core/views/widgets/fc_displayImg_amp.dust/ --><amp-img alt=\"\" class=\"\" height=\"313\" layout=\"responsive\" src=\"https://images.pagina12.com.ar/styles/focal_3_2_470x313/public/2021-03/149081-whatsapp-20image-202021-03-19-20at-2018-43-04.jpeg?itok=5CkDu9Ag\" srcset=\"https://images.pagina12.com.ar/styles/focal_3_2_470x313/public/2021-03/149081-whatsapp-20image-202021-03-19-20at-2018-43-04.jpeg?itok=5CkDu9Ag 470w, https://images.pagina12.com.ar/styles/focal_3_2_300x200/public/2021-03/149081-whatsapp-20image-202021-03-19-20at-2018-43-04.jpeg?itok=-znJ6Cad 300w, https://images.pagina12.com.ar/styles/focal_3_2_120x80/public/2021-03/149081-whatsapp-20image-202021-03-19-20at-2018-43-04.jpeg?itok=wQUOeRDC 120w\" width=\"470\"></amp-img><!-- DUST PATH: /usr/src/app/src/templates/partials/amp/articles/components/multimedia_badge.dust/ --></a></div>, <div class=\"article-item__content-footer-wrapper gutter-small deco-bar-here-top is-mobile-left negative-margin-top\"><div class=\"article-item__content\"><!-- Article type --><!-- Title --><h3 class=\"title-list\"><a href=\"https://www.pagina12.com.ar/330596-las-presiones-de-estados-unidos-a-america-latina-en-la-pande\">Las presiones de Estados Unidos a América Latina en la pandemia </a></h3><!-- Kicker --><p class=\"p12-separator--left--primary\"><a href=\"https://www.pagina12.com.ar/330596-las-presiones-de-estados-unidos-a-america-latina-en-la-pande\">La nueva ola</a></p></div><!-- Author & Date --><div class=\"article-item__footer is-display-block-mobile\"><div class=\"author is-display-inline p12-separator-right-gray\"><span>Por </span><a href=\"https://www.pagina12.com.ar/autores/882-luis-bruschtein\">Luis Bruschtein</a></div><div class=\"date is-display-inline\">20 de marzo de 2021</div></div></div>, <div class=\"article-item__content\"><!-- Article type --><!-- Title --><h3 class=\"title-list\"><a href=\"https://www.pagina12.com.ar/330596-las-presiones-de-estados-unidos-a-america-latina-en-la-pande\">Las presiones de Estados Unidos a América Latina en la pandemia </a></h3><!-- Kicker --><p class=\"p12-separator--left--primary\"><a href=\"https://www.pagina12.com.ar/330596-las-presiones-de-estados-unidos-a-america-latina-en-la-pande\">La nueva ola</a></p></div>, <div class=\"article-item__footer is-display-block-mobile\"><div class=\"author is-display-inline p12-separator-right-gray\"><span>Por </span><a href=\"https://www.pagina12.com.ar/autores/882-luis-bruschtein\">Luis Bruschtein</a></div><div class=\"date is-display-inline\">20 de marzo de 2021</div></div>, <div class=\"author is-display-inline p12-separator-right-gray\"><span>Por </span><a href=\"https://www.pagina12.com.ar/autores/882-luis-bruschtein\">Luis Bruschtein</a></div>, <div class=\"date is-display-inline\">20 de marzo de 2021</div>]\n"
     ]
    }
   ],
   "source": [
    "article_list = s_seccion.find('div', attrs={'class': 'articles-list'}).find_all('div')\n",
    "print(article_list)"
   ]
  },
  {
   "cell_type": "code",
   "execution_count": 9,
   "id": "abstract-supplier",
   "metadata": {},
   "outputs": [
    {
     "name": "stdout",
     "output_type": "stream",
     "text": [
      "[{'tittle': 'Ya aterrizó en Ezeiza el vuelo de Aerolíneas con más dosis de la Sputnik V', 'link': 'https://www.pagina12.com.ar/330391-ya-aterrizo-en-ezeiza-el-vuelo-de-aerolineas-con-mas-dosis-d'}, {'tittle': 'Vizzotti: “No estamos pensando en medidas de confinamiento”', 'link': 'https://www.pagina12.com.ar/330552-vizzotti-no-estamos-pensando-en-medidas-de-confinamiento'}, {'tittle': 'Las presiones de Estados Unidos a América Latina en la pandemia\\xa0', 'link': 'https://www.pagina12.com.ar/330596-las-presiones-de-estados-unidos-a-america-latina-en-la-pande'}, {'tittle': 'La Corte rechazó el per saltum de Google y falló a favor de Cristina Fernández de Kirchner\\xa0\\xa0', 'link': 'https://www.pagina12.com.ar/330525-la-corte-rechazo-el-per-saltum-de-google-y-fallo-a-favor-de-'}, {'tittle': 'La libre circulación en Formosa', 'link': 'https://www.pagina12.com.ar/330587-la-libre-circulacion-en-formosa'}, {'tittle': 'La Cámara de Casación rechazó detener a un acusado que aprieta testigos\\xa0', 'link': 'https://www.pagina12.com.ar/330600-la-camara-de-casacion-rechazo-detener-a-un-acusado-que-aprie'}, {'tittle': 'Murió Mario Coriolano', 'link': 'https://www.pagina12.com.ar/330602-murio-mario-coriolano'}, {'tittle': 'Submarino ARA San Juan: el espionaje macrista\\xa0se encamina a ser investigado en Dolores', 'link': 'https://www.pagina12.com.ar/330620-submarino-ara-san-juan-el-espionaje-macrista-se-encamina-a-s'}, {'tittle': 'Los docentes porteños rechazan la flexibilización de los protocolos en las escuelas', 'link': 'https://www.pagina12.com.ar/330635-los-docentes-portenos-rechazan-la-flexibilizacion-de-los-pro'}, {'tittle': 'Ya fueron vacunados 425.933 docentes y auxiliares de escuelas en todo el país', 'link': 'https://www.pagina12.com.ar/330640-ya-fueron-vacunados-425-933-docentes-y-auxiliares-de-escuela'}, {'tittle': 'Charla abierta del Espacio Puebla', 'link': 'https://www.pagina12.com.ar/330643-charla-abierta-del-espacio-puebla'}]\n"
     ]
    }
   ],
   "source": [
    "a = s_seccion.find_all('div', class_='article-item__content')\n",
    "list_links = []\n",
    "for i in a:\n",
    "    dic = {'tittle':i.a.get_text(), 'link':i.a.get('href')}\n",
    "    list_links.append(dic)\n",
    "    \n",
    "print(list_links)"
   ]
  },
  {
   "cell_type": "code",
   "execution_count": 10,
   "id": "acknowledged-charter",
   "metadata": {},
   "outputs": [],
   "source": [
    "def news_extraction(soup):\n",
    "    news = soup.find_all('div', class_='article-item__content')\n",
    "    list_news = []\n",
    "    for i in news:\n",
    "        dic = {'tittle':i.a.get_text(), 'link':i.a.get('href')}\n",
    "        list_news.append(dic)\n",
    "    return list_news"
   ]
  },
  {
   "cell_type": "code",
   "execution_count": 11,
   "id": "directed-ottawa",
   "metadata": {},
   "outputs": [],
   "source": [
    "sec1 = requests.get(links_secciones[1])\n",
    "s_seccion1 = bs(sec.text, 'lxml')\n",
    "lista = news_extraction(s_seccion1)"
   ]
  },
  {
   "cell_type": "code",
   "execution_count": 12,
   "id": "mobile-forum",
   "metadata": {},
   "outputs": [
    {
     "name": "stdout",
     "output_type": "stream",
     "text": [
      "200\n"
     ]
    }
   ],
   "source": [
    "new = requests.get(lista[0]['link'])\n",
    "soup_new = bs(new.text, 'lxml')\n",
    "print(new.status_code)"
   ]
  },
  {
   "cell_type": "code",
   "execution_count": 13,
   "id": "photographic-cartridge",
   "metadata": {},
   "outputs": [
    {
     "name": "stdout",
     "output_type": "stream",
     "text": [
      "https://www.pagina12.com.ar/330391-ya-aterrizo-en-ezeiza-el-vuelo-de-aerolineas-con-mas-dosis-d\n"
     ]
    }
   ],
   "source": [
    "print(lista[0]['link'])"
   ]
  },
  {
   "cell_type": "code",
   "execution_count": 14,
   "id": "documented-complexity",
   "metadata": {},
   "outputs": [
    {
     "ename": "SyntaxError",
     "evalue": "invalid syntax (<ipython-input-14-724950ab9135>, line 7)",
     "output_type": "error",
     "traceback": [
      "\u001b[0;36m  File \u001b[0;32m\"<ipython-input-14-724950ab9135>\"\u001b[0;36m, line \u001b[0;32m7\u001b[0m\n\u001b[0;31m    except Exception as e:\u001b[0m\n\u001b[0m    ^\u001b[0m\n\u001b[0;31mSyntaxError\u001b[0m\u001b[0;31m:\u001b[0m invalid syntax\n"
     ]
    }
   ],
   "source": [
    "try:\n",
    "    nota = requests.get(lista[0])\n",
    "    if nota.status_code == 200:\n",
    "        s_nota = bs(nota.text, 'lxml')\n",
    "        #Extrayendo el título\n",
    "        titulo = s_nota.find('div', attrs={'class':'article-title'})\n",
    "    except Exception as e:\n",
    "        print('Error:')\n",
    "        print(e)\n",
    "        print('\\n')"
   ]
  },
  {
   "cell_type": "code",
   "execution_count": null,
   "id": "greater-gospel",
   "metadata": {},
   "outputs": [],
   "source": []
  },
  {
   "cell_type": "code",
   "execution_count": null,
   "id": "english-controversy",
   "metadata": {},
   "outputs": [],
   "source": []
  },
  {
   "cell_type": "code",
   "execution_count": null,
   "id": "greater-hunger",
   "metadata": {},
   "outputs": [],
   "source": []
  },
  {
   "cell_type": "code",
   "execution_count": null,
   "id": "instant-solid",
   "metadata": {},
   "outputs": [],
   "source": []
  },
  {
   "cell_type": "code",
   "execution_count": null,
   "id": "seven-environment",
   "metadata": {},
   "outputs": [],
   "source": []
  }
 ],
 "metadata": {
  "kernelspec": {
   "display_name": "Python 3",
   "language": "python",
   "name": "python3"
  },
  "language_info": {
   "codemirror_mode": {
    "name": "ipython",
    "version": 3
   },
   "file_extension": ".py",
   "mimetype": "text/x-python",
   "name": "python",
   "nbconvert_exporter": "python",
   "pygments_lexer": "ipython3",
   "version": "3.9.2"
  }
 },
 "nbformat": 4,
 "nbformat_minor": 5
}
